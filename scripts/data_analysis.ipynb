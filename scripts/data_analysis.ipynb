{
 "metadata": {
  "language_info": {
   "codemirror_mode": {
    "name": "ipython",
    "version": 3
   },
   "file_extension": ".py",
   "mimetype": "text/x-python",
   "name": "python",
   "nbconvert_exporter": "python",
   "pygments_lexer": "ipython3",
   "version": "3.7.3-final"
  },
  "orig_nbformat": 2,
  "kernelspec": {
   "name": "pytorch",
   "display_name": "pytorch"
  }
 },
 "nbformat": 4,
 "nbformat_minor": 2,
 "cells": [
  {
   "cell_type": "code",
   "execution_count": null,
   "metadata": {},
   "outputs": [],
   "source": [
    "%cd ../\n",
    "\n",
    "import pandas as pd\n",
    "import numpy as np\n",
    "import os\n",
    "from glob import glob"
   ]
  },
  {
   "cell_type": "code",
   "execution_count": null,
   "metadata": {},
   "outputs": [],
   "source": [
    "train_path = \"user_data/data/train/data\"\n",
    "test_path = \"user_data/data/test\""
   ]
  },
  {
   "cell_type": "code",
   "execution_count": null,
   "metadata": {},
   "outputs": [],
   "source": [
    "def read_data(data_path):\n",
    "    texts = []\n",
    "    data_path = os.path.join(data_path, \"*.txt\")\n",
    "    print(data_path)\n",
    "\n",
    "    for file_path in glob(data_path):\n",
    "        file_name = os.path.basename(file_path)\n",
    "        with open(file_path, \"r\",encoding=\"utf8\") as r:\n",
    "            text = r.read()\n",
    "        texts.append({\"file_name\": int(file_name.split(\".\")[0]), \"text\": text})\n",
    "    return pd.DataFrame(texts).sort_values(by=\"file_name\").reset_index(drop=True)\n",
    "        \n"
   ]
  },
  {
   "cell_type": "code",
   "execution_count": null,
   "metadata": {
    "tags": []
   },
   "outputs": [],
   "source": [
    "train_data = read_data(train_path)\n",
    "test_data = read_data(test_path)"
   ]
  },
  {
   "cell_type": "code",
   "execution_count": null,
   "metadata": {},
   "outputs": [],
   "source": [
    "train_data.text.str.len().max()"
   ]
  },
  {
   "cell_type": "code",
   "execution_count": null,
   "metadata": {},
   "outputs": [],
   "source": [
    "test_data.text.str.len().max()"
   ]
  },
  {
   "cell_type": "code",
   "execution_count": null,
   "metadata": {},
   "outputs": [],
   "source": [
    "train_data.text.str.len().describe(percentiles=[.7, .8, .9, .95])"
   ]
  },
  {
   "cell_type": "code",
   "execution_count": null,
   "metadata": {},
   "outputs": [],
   "source": [
    "%matplotlib inline\n",
    "import matplotlib.pyplot as plt\n",
    "train_data.text.str.len().value_counts().plot.bar(xticks=range(0, 1000, 100))\n",
    "plt.show()"
   ]
  },
  {
   "cell_type": "code",
   "execution_count": null,
   "metadata": {},
   "outputs": [],
   "source": [
    "%matplotlib inline\n",
    "import matplotlib.pyplot as plt\n",
    "test_data.text.str.len().value_counts().plot.bar(xticks=range(0, 1000, 100))\n",
    "plt.show()"
   ]
  },
  {
   "cell_type": "code",
   "execution_count": null,
   "metadata": {},
   "outputs": [],
   "source": []
  },
  {
   "cell_type": "code",
   "execution_count": null,
   "metadata": {},
   "outputs": [],
   "source": [
    "def read_label(data_path):\n",
    "    texts = []\n",
    "    data_path = os.path.join(data_path, \"*.csv\")\n",
    "\n",
    "    df = None\n",
    "    for file_path in glob(data_path):\n",
    "        file_name = os.path.basename(file_path)\n",
    "        cur_df = pd.read_csv(file_path)\n",
    "        if df is None:\n",
    "            df = cur_df\n",
    "        else:\n",
    "            df = pd.concat([df, cur_df])\n",
    "    return df\n",
    "\n",
    "\n",
    "train_label_path = \"user_data/data/train/label\"\n",
    "\n",
    "train_label = sorted(list(set(read_label(train_label_path).Category.values.tolist())))"
   ]
  },
  {
   "cell_type": "code",
   "execution_count": null,
   "metadata": {},
   "outputs": [],
   "source": [
    "train_label.Category.value_counts()"
   ]
  },
  {
   "cell_type": "code",
   "execution_count": null,
   "metadata": {},
   "outputs": [],
   "source": [
    "import re\n",
    "non_zh_char = set()\n",
    "\n",
    "need_char = set(\"!#$%&\\()*+,-./:;<=>?@[\\\\]^_`{|}~！#￥%&？《》{}“”，：‘’。（）·、；【】\")\n",
    "for text in train_data.text.values.tolist() + test_data.text.values.tolist():\n",
    "    # char = re.findall(\"[^\\u4e00-\\u9fa5_0-9_a-z_A-Z]\", text)\n",
    "    char = re.findall(\"\\W\", text)\n",
    "    non_zh_char.update(char)\n",
    "non_zh_char - need_char"
   ]
  },
  {
   "cell_type": "code",
   "execution_count": null,
   "metadata": {},
   "outputs": [],
   "source": [
    "a = ['公', '司', '：', '海', '润', '影', '视', '电', '影', '作', '品', '：', '<movie>《', '公', '主', '的', '诱', '惑', '》</movie>', '<movie>《', '恋', '爱', '三', '万', '英', '尺', '》</movie>', '<movie>《', '囍', '上', '加', '喜', '》</movie>', '音', '乐', '作', '品', '：', '同', '名', '专', '辑', '《', 's', '公', '主', '》', '经', '纪', '人', '<name>莲', '莲</name>', '：', '<mobile>1', '3', '9', '1', '0', '2', '2', '0', '8', '9', '2</mobile>', '，', '<position>歌', '手', '演', '员</position>', ' ', '<position>前', '明', '骏', '女', '孩', '组', '合', '队', '长']"
   ]
  },
  {
   "cell_type": "code",
   "execution_count": 1,
   "metadata": {},
   "outputs": [],
   "source": [
    "train_path = \"../user_data/data/train/*.txt\"\n",
    "test_path = \"../user_data/data/test/*.txt\"\n",
    "external_path = \"../user_data/data/external_data/*.txt\"\n",
    "\n",
    "from glob import glob\n",
    "import os\n",
    "import pandas as pd\n",
    "\n",
    "def read_text(data_path):\n",
    "    dataset = []\n",
    "\n",
    "    for data_name in glob(data_path):\n",
    "        with open(data_name, \"r\", encoding=\"utf8\") as r:\n",
    "            text = r.read()\n",
    "        dataset.append({\n",
    "            \"file_id\": os.path.basename(data_name).split(\".\")[0],\n",
    "            \"text\": text\n",
    "\n",
    "        })\n",
    "    return pd.DataFrame(dataset)\n",
    "\n"
   ]
  },
  {
   "cell_type": "code",
   "execution_count": 2,
   "metadata": {},
   "outputs": [],
   "source": [
    "train_df = read_text(train_path)\n",
    "test_df = read_text(test_path)\n",
    "external_df = read_text(external_path)"
   ]
  },
  {
   "cell_type": "code",
   "execution_count": 3,
   "metadata": {},
   "outputs": [
    {
     "output_type": "execute_result",
     "data": {
      "text/plain": [
       "    file_id_x                                               text file_id_y\n",
       "0       15134                     他们不但终止了与三亚辰龙的合作，同时举报了出具假保单的机构。      1502\n",
       "1        7372  海菱也是从朋友的微博里看到方肇新的故事的，看了方肇新的博客和贴出的照片后，她相信这是一个真实...      1545\n",
       "2       16413      等，“卫特曼”在短短时间内便摧毁了十辆坦克和二十辆装甲车，更不用说让英军损失了几百名士兵。      2062\n",
       "3       16527   今年要6万分才可以。广发更是停止了积分换礼券的活动。”拥有三四家银行信用卡的上海吴小姐告诉记者。       852\n",
       "4       13396             张某以及办案民警，揭秘诈骗团伙利用伪造国际信用卡通过pos机刷卡套现的内幕。      1588\n",
       "..        ...                                                ...       ...\n",
       "406      7575                      《黑光》预计在最近将举行的游戏开发者会议(GDC)上公布。      2331\n",
       "407      7831         razer杯dota精英挑战赛将于2009年8月8日在北京中关村鼎好电子城震撼上演。      1152\n",
       "408     11508                       《艺术与投资》：你觉得一直以来贯穿在所有创作中的是什么？        64\n",
       "409      6284                                   问：《Rage》今年是没戏了吗？       177\n",
       "410      5495              portdouglas，而且起飞的时候你需要自己把握风向，因此更有挑战性。      1879\n",
       "\n",
       "[411 rows x 3 columns]"
      ],
      "text/html": "<div>\n<style scoped>\n    .dataframe tbody tr th:only-of-type {\n        vertical-align: middle;\n    }\n\n    .dataframe tbody tr th {\n        vertical-align: top;\n    }\n\n    .dataframe thead th {\n        text-align: right;\n    }\n</style>\n<table border=\"1\" class=\"dataframe\">\n  <thead>\n    <tr style=\"text-align: right;\">\n      <th></th>\n      <th>file_id_x</th>\n      <th>text</th>\n      <th>file_id_y</th>\n    </tr>\n  </thead>\n  <tbody>\n    <tr>\n      <th>0</th>\n      <td>15134</td>\n      <td>他们不但终止了与三亚辰龙的合作，同时举报了出具假保单的机构。</td>\n      <td>1502</td>\n    </tr>\n    <tr>\n      <th>1</th>\n      <td>7372</td>\n      <td>海菱也是从朋友的微博里看到方肇新的故事的，看了方肇新的博客和贴出的照片后，她相信这是一个真实...</td>\n      <td>1545</td>\n    </tr>\n    <tr>\n      <th>2</th>\n      <td>16413</td>\n      <td>等，“卫特曼”在短短时间内便摧毁了十辆坦克和二十辆装甲车，更不用说让英军损失了几百名士兵。</td>\n      <td>2062</td>\n    </tr>\n    <tr>\n      <th>3</th>\n      <td>16527</td>\n      <td>今年要6万分才可以。广发更是停止了积分换礼券的活动。”拥有三四家银行信用卡的上海吴小姐告诉记者。</td>\n      <td>852</td>\n    </tr>\n    <tr>\n      <th>4</th>\n      <td>13396</td>\n      <td>张某以及办案民警，揭秘诈骗团伙利用伪造国际信用卡通过pos机刷卡套现的内幕。</td>\n      <td>1588</td>\n    </tr>\n    <tr>\n      <th>...</th>\n      <td>...</td>\n      <td>...</td>\n      <td>...</td>\n    </tr>\n    <tr>\n      <th>406</th>\n      <td>7575</td>\n      <td>《黑光》预计在最近将举行的游戏开发者会议(GDC)上公布。</td>\n      <td>2331</td>\n    </tr>\n    <tr>\n      <th>407</th>\n      <td>7831</td>\n      <td>razer杯dota精英挑战赛将于2009年8月8日在北京中关村鼎好电子城震撼上演。</td>\n      <td>1152</td>\n    </tr>\n    <tr>\n      <th>408</th>\n      <td>11508</td>\n      <td>《艺术与投资》：你觉得一直以来贯穿在所有创作中的是什么？</td>\n      <td>64</td>\n    </tr>\n    <tr>\n      <th>409</th>\n      <td>6284</td>\n      <td>问：《Rage》今年是没戏了吗？</td>\n      <td>177</td>\n    </tr>\n    <tr>\n      <th>410</th>\n      <td>5495</td>\n      <td>portdouglas，而且起飞的时候你需要自己把握风向，因此更有挑战性。</td>\n      <td>1879</td>\n    </tr>\n  </tbody>\n</table>\n<p>411 rows × 3 columns</p>\n</div>"
     },
     "metadata": {},
     "execution_count": 3
    }
   ],
   "source": [
    "pd.merge(external_df, train_df, how=\"inner\", on=\"text\")"
   ]
  },
  {
   "cell_type": "code",
   "execution_count": 12,
   "metadata": {},
   "outputs": [
    {
     "output_type": "execute_result",
     "data": {
      "text/plain": [
       "    file_id_x                                               text file_id_y\n",
       "0        9938            拿林达海渔广场来说，我们除了酒店、写字楼、商业，我们还配套了一个林达海渔公园。      3111\n",
       "1        9037                            保险行业协会自行约定手续费上限的行为没有依据。       673\n",
       "2        5906             《地下城英雄》预定2009年初发售，对应PC和Xbox360平台，价格未定。      2675\n",
       "3        7961        而作为此次的合作伙伴，游戏风云就韩国OGN电视台总经理郭在根对于此次的合作进行了专访。      2661\n",
       "4        6004     去马鲁姆火山亲密接触岩浆，在墨西哥玛雅圣井做过洞穴潜水，也在阿富汗光影复原过巴米扬大佛……。      2904\n",
       "..        ...                                                ...       ...\n",
       "350      5208                 而纪平表示，参与移库的主要为沿线交通便利的粮库，他的粮库并没有参与。       909\n",
       "351     13130           索罗斯表示：“相比欧元区国家，英国使用汇率作为调整本国经济的方式拥有更大的空间。      3868\n",
       "352      5494       新浪房产讯（实习编辑孙雨）名流尊邸（论坛相册户型样板间地图搜索）尾房在售，新房7月开盘。      3789\n",
       "353      5076  主队强调整体，客队则依靠球星一锤定音。当然努曼西亚的主场优势不容小视。而马竞的客场成绩有待于提高。      1819\n",
       "354     12828                       造成发卡机构和持卡人资金损失的，央行将追究收单机构责任。      1232\n",
       "\n",
       "[355 rows x 3 columns]"
      ],
      "text/html": "<div>\n<style scoped>\n    .dataframe tbody tr th:only-of-type {\n        vertical-align: middle;\n    }\n\n    .dataframe tbody tr th {\n        vertical-align: top;\n    }\n\n    .dataframe thead th {\n        text-align: right;\n    }\n</style>\n<table border=\"1\" class=\"dataframe\">\n  <thead>\n    <tr style=\"text-align: right;\">\n      <th></th>\n      <th>file_id_x</th>\n      <th>text</th>\n      <th>file_id_y</th>\n    </tr>\n  </thead>\n  <tbody>\n    <tr>\n      <th>0</th>\n      <td>9938</td>\n      <td>拿林达海渔广场来说，我们除了酒店、写字楼、商业，我们还配套了一个林达海渔公园。</td>\n      <td>3111</td>\n    </tr>\n    <tr>\n      <th>1</th>\n      <td>9037</td>\n      <td>保险行业协会自行约定手续费上限的行为没有依据。</td>\n      <td>673</td>\n    </tr>\n    <tr>\n      <th>2</th>\n      <td>5906</td>\n      <td>《地下城英雄》预定2009年初发售，对应PC和Xbox360平台，价格未定。</td>\n      <td>2675</td>\n    </tr>\n    <tr>\n      <th>3</th>\n      <td>7961</td>\n      <td>而作为此次的合作伙伴，游戏风云就韩国OGN电视台总经理郭在根对于此次的合作进行了专访。</td>\n      <td>2661</td>\n    </tr>\n    <tr>\n      <th>4</th>\n      <td>6004</td>\n      <td>去马鲁姆火山亲密接触岩浆，在墨西哥玛雅圣井做过洞穴潜水，也在阿富汗光影复原过巴米扬大佛……。</td>\n      <td>2904</td>\n    </tr>\n    <tr>\n      <th>...</th>\n      <td>...</td>\n      <td>...</td>\n      <td>...</td>\n    </tr>\n    <tr>\n      <th>350</th>\n      <td>5208</td>\n      <td>而纪平表示，参与移库的主要为沿线交通便利的粮库，他的粮库并没有参与。</td>\n      <td>909</td>\n    </tr>\n    <tr>\n      <th>351</th>\n      <td>13130</td>\n      <td>索罗斯表示：“相比欧元区国家，英国使用汇率作为调整本国经济的方式拥有更大的空间。</td>\n      <td>3868</td>\n    </tr>\n    <tr>\n      <th>352</th>\n      <td>5494</td>\n      <td>新浪房产讯（实习编辑孙雨）名流尊邸（论坛相册户型样板间地图搜索）尾房在售，新房7月开盘。</td>\n      <td>3789</td>\n    </tr>\n    <tr>\n      <th>353</th>\n      <td>5076</td>\n      <td>主队强调整体，客队则依靠球星一锤定音。当然努曼西亚的主场优势不容小视。而马竞的客场成绩有待于提高。</td>\n      <td>1819</td>\n    </tr>\n    <tr>\n      <th>354</th>\n      <td>12828</td>\n      <td>造成发卡机构和持卡人资金损失的，央行将追究收单机构责任。</td>\n      <td>1232</td>\n    </tr>\n  </tbody>\n</table>\n<p>355 rows × 3 columns</p>\n</div>"
     },
     "metadata": {},
     "execution_count": 12
    }
   ],
   "source": [
    "pd.merge(external_df, test_df, how=\"inner\", on=\"text\")"
   ]
  },
  {
   "cell_type": "code",
   "execution_count": 9,
   "metadata": {},
   "outputs": [
    {
     "output_type": "execute_result",
     "data": {
      "text/plain": [
       "     file_id                                               text\n",
       "0        628  另外，兔年贺岁银条也有望在10月底时开始在本市销售。宝华工贸中心人士介绍说，新华网消息：美国...\n",
       "1       3036  Lifeislikeaboxofchocolate，youneverknowwhatyoua...\n",
       "2       3494  2010中国百佳魅力女性，2011中医养生行业品牌女性，浙江横店东磁管理学院院长，国学才女，...\n",
       "3       1764  个人网站可以了解我的摄影作品：http://wanglinphotography.com/i...\n",
       "4       1186  作品：胡夏-是我先開口；陳奕迅-兄妹，想哭；羅志祥-最後的風度；5566-一光年；謝安琪-雨...\n",
       "...      ...                                                ...\n",
       "3951     683  台湾旅游作家，著有：搭地铁玩遍上海、開始到上海工作就上手。网路行销家，创立台湾第一个线上音乐...\n",
       "3952    2734  河南省新汇通汽车销售服务有限公司（经营：全球鹰GX7、GC7、远景、自由舰、GX2、熊猫）地...\n",
       "3953    2137  北京是文化之都，對外來文化都包容，給我創作上的養份，我的心靈比在香港時自由多了，香港编剧，代...\n",
       "3954    2256  中国戏剧节优秀表演奖；中国青联委员；广东省政协常委；广东省剧协副主席；广东五四青年奖章获得者...\n",
       "3955     102  由于暴雪(连同GomTV)正就星际争霸知识产权问题与KeSPA(el9和mundodepor...\n",
       "\n",
       "[3956 rows x 2 columns]"
      ],
      "text/html": "<div>\n<style scoped>\n    .dataframe tbody tr th:only-of-type {\n        vertical-align: middle;\n    }\n\n    .dataframe tbody tr th {\n        vertical-align: top;\n    }\n\n    .dataframe thead th {\n        text-align: right;\n    }\n</style>\n<table border=\"1\" class=\"dataframe\">\n  <thead>\n    <tr style=\"text-align: right;\">\n      <th></th>\n      <th>file_id</th>\n      <th>text</th>\n    </tr>\n  </thead>\n  <tbody>\n    <tr>\n      <th>0</th>\n      <td>628</td>\n      <td>另外，兔年贺岁银条也有望在10月底时开始在本市销售。宝华工贸中心人士介绍说，新华网消息：美国...</td>\n    </tr>\n    <tr>\n      <th>1</th>\n      <td>3036</td>\n      <td>Lifeislikeaboxofchocolate，youneverknowwhatyoua...</td>\n    </tr>\n    <tr>\n      <th>2</th>\n      <td>3494</td>\n      <td>2010中国百佳魅力女性，2011中医养生行业品牌女性，浙江横店东磁管理学院院长，国学才女，...</td>\n    </tr>\n    <tr>\n      <th>3</th>\n      <td>1764</td>\n      <td>个人网站可以了解我的摄影作品：http://wanglinphotography.com/i...</td>\n    </tr>\n    <tr>\n      <th>4</th>\n      <td>1186</td>\n      <td>作品：胡夏-是我先開口；陳奕迅-兄妹，想哭；羅志祥-最後的風度；5566-一光年；謝安琪-雨...</td>\n    </tr>\n    <tr>\n      <th>...</th>\n      <td>...</td>\n      <td>...</td>\n    </tr>\n    <tr>\n      <th>3951</th>\n      <td>683</td>\n      <td>台湾旅游作家，著有：搭地铁玩遍上海、開始到上海工作就上手。网路行销家，创立台湾第一个线上音乐...</td>\n    </tr>\n    <tr>\n      <th>3952</th>\n      <td>2734</td>\n      <td>河南省新汇通汽车销售服务有限公司（经营：全球鹰GX7、GC7、远景、自由舰、GX2、熊猫）地...</td>\n    </tr>\n    <tr>\n      <th>3953</th>\n      <td>2137</td>\n      <td>北京是文化之都，對外來文化都包容，給我創作上的養份，我的心靈比在香港時自由多了，香港编剧，代...</td>\n    </tr>\n    <tr>\n      <th>3954</th>\n      <td>2256</td>\n      <td>中国戏剧节优秀表演奖；中国青联委员；广东省政协常委；广东省剧协副主席；广东五四青年奖章获得者...</td>\n    </tr>\n    <tr>\n      <th>3955</th>\n      <td>102</td>\n      <td>由于暴雪(连同GomTV)正就星际争霸知识产权问题与KeSPA(el9和mundodepor...</td>\n    </tr>\n  </tbody>\n</table>\n<p>3956 rows × 2 columns</p>\n</div>"
     },
     "metadata": {},
     "execution_count": 9
    }
   ],
   "source": [
    "test_df"
   ]
  },
  {
   "cell_type": "code",
   "execution_count": 8,
   "metadata": {},
   "outputs": [
    {
     "output_type": "execute_result",
     "data": {
      "text/plain": [
       "     file_id                                               text\n",
       "0        628      IF制作的时候也花费了一定的力气。如果变身系统脱离war3的束缚，会有一些更加有趣的变动。\n",
       "1       1764                             玛蒂的家族重逢》的6300万＄带来现实气息。\n",
       "2       1186  单说佩恩。尽管泰勒夫妇作为忠实的合作伙伴连续参与了《关于施密特》和《杯酒人生》，但“导演＋编...\n",
       "3        420    就可以和新加坡影人一样，享受到新加坡政府“长片资助计划”，以及15亿元新币的私人媒体基金扶持。\n",
       "4       1011  金石开：卢森堡那场球赢得极其诡异。不过，卢森堡本场的境况和上轮完全不同，消息来源表示，尽管M...\n",
       "...      ...                                                ...\n",
       "2510     933  提供给我们很完整地认识曾梵志作品面貌的展览，通过这个展览，很厉害的天才。能够双修而且星际2也...\n",
       "2511     683  菩提非树明镜无台福在简淡寿始释怀情出于心纯朴久远此意如茶暗香自来！曾经花样滑冰运动员现今演员...\n",
       "2512    2137  《红楼梦》标准版1月10日提前上市ArxelTribe源于经典影片《沉默的羔羊》开发的动作游...\n",
       "2513    2256  曾经是一名职业棋手，梦想成为业界顶尖，没达到。现在从事棋类管理工作，梦想是我的队员完成我的梦...\n",
       "2514     102  第一届北京大学生戏剧节“优秀男演员奖”、《第26届深圳世界大学生运动会》—仪式导演、电影《辛...\n",
       "\n",
       "[2515 rows x 2 columns]"
      ],
      "text/html": "<div>\n<style scoped>\n    .dataframe tbody tr th:only-of-type {\n        vertical-align: middle;\n    }\n\n    .dataframe tbody tr th {\n        vertical-align: top;\n    }\n\n    .dataframe thead th {\n        text-align: right;\n    }\n</style>\n<table border=\"1\" class=\"dataframe\">\n  <thead>\n    <tr style=\"text-align: right;\">\n      <th></th>\n      <th>file_id</th>\n      <th>text</th>\n    </tr>\n  </thead>\n  <tbody>\n    <tr>\n      <th>0</th>\n      <td>628</td>\n      <td>IF制作的时候也花费了一定的力气。如果变身系统脱离war3的束缚，会有一些更加有趣的变动。</td>\n    </tr>\n    <tr>\n      <th>1</th>\n      <td>1764</td>\n      <td>玛蒂的家族重逢》的6300万＄带来现实气息。</td>\n    </tr>\n    <tr>\n      <th>2</th>\n      <td>1186</td>\n      <td>单说佩恩。尽管泰勒夫妇作为忠实的合作伙伴连续参与了《关于施密特》和《杯酒人生》，但“导演＋编...</td>\n    </tr>\n    <tr>\n      <th>3</th>\n      <td>420</td>\n      <td>就可以和新加坡影人一样，享受到新加坡政府“长片资助计划”，以及15亿元新币的私人媒体基金扶持。</td>\n    </tr>\n    <tr>\n      <th>4</th>\n      <td>1011</td>\n      <td>金石开：卢森堡那场球赢得极其诡异。不过，卢森堡本场的境况和上轮完全不同，消息来源表示，尽管M...</td>\n    </tr>\n    <tr>\n      <th>...</th>\n      <td>...</td>\n      <td>...</td>\n    </tr>\n    <tr>\n      <th>2510</th>\n      <td>933</td>\n      <td>提供给我们很完整地认识曾梵志作品面貌的展览，通过这个展览，很厉害的天才。能够双修而且星际2也...</td>\n    </tr>\n    <tr>\n      <th>2511</th>\n      <td>683</td>\n      <td>菩提非树明镜无台福在简淡寿始释怀情出于心纯朴久远此意如茶暗香自来！曾经花样滑冰运动员现今演员...</td>\n    </tr>\n    <tr>\n      <th>2512</th>\n      <td>2137</td>\n      <td>《红楼梦》标准版1月10日提前上市ArxelTribe源于经典影片《沉默的羔羊》开发的动作游...</td>\n    </tr>\n    <tr>\n      <th>2513</th>\n      <td>2256</td>\n      <td>曾经是一名职业棋手，梦想成为业界顶尖，没达到。现在从事棋类管理工作，梦想是我的队员完成我的梦...</td>\n    </tr>\n    <tr>\n      <th>2514</th>\n      <td>102</td>\n      <td>第一届北京大学生戏剧节“优秀男演员奖”、《第26届深圳世界大学生运动会》—仪式导演、电影《辛...</td>\n    </tr>\n  </tbody>\n</table>\n<p>2515 rows × 2 columns</p>\n</div>"
     },
     "metadata": {},
     "execution_count": 8
    }
   ],
   "source": [
    "train_df"
   ]
  },
  {
   "cell_type": "code",
   "execution_count": 10,
   "metadata": {},
   "outputs": [
    {
     "output_type": "execute_result",
     "data": {
      "text/plain": [
       "Empty DataFrame\n",
       "Columns: [file_id_x, text, file_id_y]\n",
       "Index: []"
      ],
      "text/html": "<div>\n<style scoped>\n    .dataframe tbody tr th:only-of-type {\n        vertical-align: middle;\n    }\n\n    .dataframe tbody tr th {\n        vertical-align: top;\n    }\n\n    .dataframe thead th {\n        text-align: right;\n    }\n</style>\n<table border=\"1\" class=\"dataframe\">\n  <thead>\n    <tr style=\"text-align: right;\">\n      <th></th>\n      <th>file_id_x</th>\n      <th>text</th>\n      <th>file_id_y</th>\n    </tr>\n  </thead>\n  <tbody>\n  </tbody>\n</table>\n</div>"
     },
     "metadata": {},
     "execution_count": 10
    }
   ],
   "source": [
    "pd.merge(train_df, test_df, how=\"inner\", on=\"text\")"
   ]
  },
  {
   "cell_type": "code",
   "execution_count": null,
   "metadata": {},
   "outputs": [],
   "source": []
  }
 ]
}